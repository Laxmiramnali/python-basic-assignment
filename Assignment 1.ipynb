{
 "cells": [
  {
   "cell_type": "code",
   "execution_count": 2,
   "id": "afe4dd31",
   "metadata": {},
   "outputs": [
    {
     "ename": "SyntaxError",
     "evalue": "invalid syntax (Temp/ipykernel_7920/154163634.py, line 4)",
     "output_type": "error",
     "traceback": [
      "\u001b[1;36m  File \u001b[1;32m\"C:\\Users\\shrik\\AppData\\Local\\Temp/ipykernel_7920/154163634.py\"\u001b[1;36m, line \u001b[1;32m4\u001b[0m\n\u001b[1;33m    * = expression\u001b[0m\n\u001b[1;37m      ^\u001b[0m\n\u001b[1;31mSyntaxError\u001b[0m\u001b[1;31m:\u001b[0m invalid syntax\n"
     ]
    }
   ],
   "source": [
    "#1. In the below elements which of them are values or an expression? eg:- values can be\n",
    "#integer or string and expressions will be mathematical operators.\n",
    "\n",
    "* = expression\n",
    "'hello'= value(string)\n",
    "-87.8 = value(integer)\n",
    "- = expression\n",
    "/= expression\n",
    "+ = expression\n",
    "6 = value(integer)"
   ]
  },
  {
   "cell_type": "code",
   "execution_count": null,
   "id": "ed78191f",
   "metadata": {},
   "outputs": [],
   "source": [
    "#2. What is the difference between string and variable?\n",
    " Variables are symbols that you can use to store data in a program.\n",
    "we can think of them as an empty box that we fill with some data or value.\n",
    "Strings is set of characters (numeric, alphabets, symbol) which we can use to fill up a variable."
   ]
  },
  {
   "cell_type": "code",
   "execution_count": null,
   "id": "f35c0c28",
   "metadata": {},
   "outputs": [],
   "source": [
    "#3. Describe three different data types.\n",
    "1.Numeric Data type:- The numeric data type in Python represents the data that has a numeric value\n",
    "    *Integer= It contains positive or negative whole numbers\n",
    "    *Float = It is specified by a decimal point.\n",
    "    *Complex numbers= It is specified as (real part) + (imaginary part)j\n",
    "2.Sequence Data type:- The sequence Data Type in Python is the ordered collection of similar or different data types.\n",
    "    *String=A string is a collection of one or more characters\n",
    "    *List = Lists is an ordered collection of data.\n",
    "    *Tuple = tuple is also an ordered collection of Python objects. \n",
    "    The only difference between a tuple and a list is that tuples are immutable.Tuples cannot be modified after it is created\n",
    "3.Boolean data type:- Data type with one of the two built-in values, True or False.\n",
    "4. Set data type :-Set is an unordered collection of data types that is iterable, mutable and has no duplicate elements.\n",
    "    "
   ]
  },
  {
   "cell_type": "code",
   "execution_count": null,
   "id": "3f9ea394",
   "metadata": {},
   "outputs": [],
   "source": [
    "#4. What is an expression made up of? What do all expressions do?\n",
    "An expression is a combination of values, variables, operators, and calls to functions. Expressions need to be evaluated. \n",
    "if we print an expression, the interpreter evaluates the expression and displays the result."
   ]
  },
  {
   "cell_type": "code",
   "execution_count": null,
   "id": "7526d260",
   "metadata": {},
   "outputs": [],
   "source": [
    "#5. This assignment statements, like spam = 10. What is the difference between an expression and a statement?\n",
    "An expression evaluates to a single value. A statement does not."
   ]
  },
  {
   "cell_type": "code",
   "execution_count": null,
   "id": "f39d897b",
   "metadata": {},
   "outputs": [],
   "source": [
    "#6. After running the following code, what does the variable bacon contain?\n",
    "bacon = 22\n",
    "bacon + 1\n",
    "\n",
    "The bacon variable is set to 22. The bacon + 1 expression does not reassign the value in bacon.\n",
    "(that would need an assignment statement: bacon = bacon + 1)"
   ]
  },
  {
   "cell_type": "code",
   "execution_count": 7,
   "id": "6b559114",
   "metadata": {},
   "outputs": [
    {
     "data": {
      "text/plain": [
       "'spamspamspam'"
      ]
     },
     "execution_count": 7,
     "metadata": {},
     "output_type": "execute_result"
    }
   ],
   "source": [
    "#7.What should the following two expressions evaluate to?\n",
    "\n",
    "'spam' + 'spamspam'\n",
    "'spam' * 3\n",
    "it wil give result 'spamspamspam'"
   ]
  },
  {
   "cell_type": "code",
   "execution_count": null,
   "id": "9e7e7c50",
   "metadata": {},
   "outputs": [],
   "source": [
    "#8. Why is eggs a valid variable name while 100 is invalid?\n",
    "Variable names cannot begin with a number."
   ]
  },
  {
   "cell_type": "code",
   "execution_count": null,
   "id": "7c5d0a16",
   "metadata": {},
   "outputs": [],
   "source": [
    "#9. What three functions can be used to get the integer, floating-point number, or string version of a value?\n",
    "The int(), float(), and str() functions can be used."
   ]
  },
  {
   "cell_type": "code",
   "execution_count": 10,
   "id": "c0c6cc8c",
   "metadata": {},
   "outputs": [
    {
     "data": {
      "text/plain": [
       "'I have eaten 99 burritos.'"
      ]
     },
     "execution_count": 10,
     "metadata": {},
     "output_type": "execute_result"
    }
   ],
   "source": [
    "#10.Why does this expression cause an error? How can you fix it?\n",
    "\n",
    "#'I have eaten ' + 99 + ' burritos.'\n",
    "\n",
    "error is 99 is int value and concatenate will be done on strings\n",
    "'I have eaten ' + str(99) + ' burritos.'"
   ]
  },
  {
   "cell_type": "code",
   "execution_count": null,
   "id": "4ab88fad",
   "metadata": {},
   "outputs": [],
   "source": []
  },
  {
   "cell_type": "code",
   "execution_count": null,
   "id": "2434e689",
   "metadata": {},
   "outputs": [],
   "source": []
  }
 ],
 "metadata": {
  "kernelspec": {
   "display_name": "Python 3 (ipykernel)",
   "language": "python",
   "name": "python3"
  },
  "language_info": {
   "codemirror_mode": {
    "name": "ipython",
    "version": 3
   },
   "file_extension": ".py",
   "mimetype": "text/x-python",
   "name": "python",
   "nbconvert_exporter": "python",
   "pygments_lexer": "ipython3",
   "version": "3.9.4"
  }
 },
 "nbformat": 4,
 "nbformat_minor": 5
}
