{
 "cells": [
  {
   "cell_type": "code",
   "execution_count": null,
   "id": "6fb04a87",
   "metadata": {},
   "outputs": [],
   "source": [
    "#1. What does RGBA stand for?\n",
    "\n",
    "RGBA stands for red, green, blue, and alpha (transparency) in the color\n",
    "An RGBA value is a tuple of 4 integers, each ranging from 0 to 255. The four integers correspond\n",
    "to the amount of red, green, blue, and alpha (transparency) in the color"
   ]
  },
  {
   "cell_type": "code",
   "execution_count": null,
   "id": "bf8ef1d1",
   "metadata": {},
   "outputs": [],
   "source": [
    "#2. From the Pillow module, how do you get the RGBA value of any images?\n",
    "\n",
    "from PIL import ImageColor\n",
    "ImageColor.getcolor('green', 'RGBA')\n",
    "ImageColor.getcolor('red', 'RGBA')"
   ]
  },
  {
   "cell_type": "code",
   "execution_count": null,
   "id": "121d231d",
   "metadata": {},
   "outputs": [],
   "source": [
    "#3. What is a box tuple, and how does it work?\n",
    "\n",
    "A box tuple is a tuple value of four integers: the left edge x-coordinate, the top edge y-coordinate, the width, and the height, respectively"
   ]
  },
  {
   "cell_type": "code",
   "execution_count": 20,
   "id": "44a51068",
   "metadata": {},
   "outputs": [
    {
     "name": "stdout",
     "output_type": "stream",
     "text": [
      "width= 208\n",
      "height= 130\n"
     ]
    }
   ],
   "source": [
    "#4. Use your image and load in notebook then, How can you find out the width and height of an Image object?\n",
    "\n",
    "from PIL import Image\n",
    "im=Image.open('C:/Users/shrik/oneDrive/pictures/Image.jpg')\n",
    "width, height = im.size\n",
    "print(\"width=\", width)\n",
    "print(\"height=\", height)\n"
   ]
  },
  {
   "cell_type": "code",
   "execution_count": null,
   "id": "fe8e9437",
   "metadata": {},
   "outputs": [],
   "source": [
    "#5. What method would you call to get Image object for a 100×100 image, excluding the lower-left quarter of it?\n",
    "ImageObject.crop((0, 50, 50, 50))"
   ]
  },
  {
   "cell_type": "code",
   "execution_count": null,
   "id": "403ff939",
   "metadata": {},
   "outputs": [],
   "source": [
    "#6. After making changes to an Image object, how could you save it as an image file?\n",
    " By Calling the imageObj.save('new_filename.png') method of the Image object."
   ]
  },
  {
   "cell_type": "code",
   "execution_count": null,
   "id": "92f3a1df",
   "metadata": {},
   "outputs": [],
   "source": [
    "#7. What module contains Pillow’s shape-drawing code?\n",
    "The ImageDraw module contains code to draw on images"
   ]
  },
  {
   "cell_type": "code",
   "execution_count": null,
   "id": "0909c6d8",
   "metadata": {},
   "outputs": [],
   "source": [
    "#8. Image objects do not have drawing methods. What kind of object does? How do you get this kindof object?\n",
    "ImageDraw objects have shape-drawing methods such as point(), line(), or rectangle(). \n",
    "They are returned by passing the Image object to the ImageDraw.\n",
    "Draw() function"
   ]
  },
  {
   "cell_type": "code",
   "execution_count": null,
   "id": "a0455837",
   "metadata": {},
   "outputs": [],
   "source": []
  },
  {
   "cell_type": "code",
   "execution_count": null,
   "id": "b89218c6",
   "metadata": {},
   "outputs": [],
   "source": []
  },
  {
   "cell_type": "code",
   "execution_count": null,
   "id": "202169e5",
   "metadata": {},
   "outputs": [],
   "source": []
  },
  {
   "cell_type": "code",
   "execution_count": null,
   "id": "c8398e96",
   "metadata": {},
   "outputs": [],
   "source": []
  },
  {
   "cell_type": "code",
   "execution_count": null,
   "id": "7e8272c4",
   "metadata": {},
   "outputs": [],
   "source": []
  },
  {
   "cell_type": "code",
   "execution_count": null,
   "id": "4f37fcfb",
   "metadata": {},
   "outputs": [],
   "source": []
  },
  {
   "cell_type": "code",
   "execution_count": null,
   "id": "690ef87c",
   "metadata": {},
   "outputs": [],
   "source": []
  },
  {
   "cell_type": "code",
   "execution_count": null,
   "id": "92e12211",
   "metadata": {},
   "outputs": [],
   "source": []
  },
  {
   "cell_type": "code",
   "execution_count": null,
   "id": "2519cb3c",
   "metadata": {},
   "outputs": [],
   "source": []
  },
  {
   "cell_type": "code",
   "execution_count": null,
   "id": "6d194bed",
   "metadata": {},
   "outputs": [],
   "source": []
  },
  {
   "cell_type": "code",
   "execution_count": null,
   "id": "4be48867",
   "metadata": {},
   "outputs": [],
   "source": []
  },
  {
   "cell_type": "code",
   "execution_count": null,
   "id": "77141106",
   "metadata": {},
   "outputs": [],
   "source": []
  }
 ],
 "metadata": {
  "kernelspec": {
   "display_name": "Python 3 (ipykernel)",
   "language": "python",
   "name": "python3"
  },
  "language_info": {
   "codemirror_mode": {
    "name": "ipython",
    "version": 3
   },
   "file_extension": ".py",
   "mimetype": "text/x-python",
   "name": "python",
   "nbconvert_exporter": "python",
   "pygments_lexer": "ipython3",
   "version": "3.9.4"
  }
 },
 "nbformat": 4,
 "nbformat_minor": 5
}
